{
 "cells": [
  {
   "cell_type": "code",
   "execution_count": 38,
   "id": "d7036e04",
   "metadata": {},
   "outputs": [
    {
     "name": "stdout",
     "output_type": "stream",
     "text": [
      "0      1\n",
      "1      1\n",
      "2      1\n",
      "3      1\n",
      "4      1\n",
      "      ..\n",
      "495    2\n",
      "496    2\n",
      "497    2\n",
      "498    2\n",
      "499    2\n",
      "Name: Kelas, Length: 500, dtype: object\n"
     ]
    }
   ],
   "source": [
    "import pandas as pd\n",
    "import matplotlib as plt\n",
    "\n",
    "#Fungsi menghapus new line\n",
    "def clearNewLine(string):\n",
    "    if(string[len(string)-1] == '\\n'):\n",
    "        return string[:-1]\n",
    "    else:\n",
    "        return string\n",
    "\n",
    "#Membuka file csv\n",
    "file = open('Gandum.csv','r')\n",
    "file = file.readlines()\n",
    "\n",
    "#Inisiasi data\n",
    "data = {}\n",
    "jumlah_data = 500\n",
    "data['id'] = [0 for i in range (jumlah_data)]\n",
    "data['Daerah'] = [0 for i in range (jumlah_data)]\n",
    "data['SumbuUtama'] = [0 for i in range (jumlah_data)]\n",
    "data['SumbuKecil'] = [0 for i in range (jumlah_data)]\n",
    "data['Keunikan'] = [0 for i in range (jumlah_data)]\n",
    "data['AreaBulatan'] = [0 for i in range (jumlah_data)]\n",
    "data['Diameter'] = [0 for i in range (jumlah_data)]\n",
    "data['KadarAir'] = [0 for i in range (jumlah_data)]\n",
    "data['Keliling'] = [0 for i in range (jumlah_data)]\n",
    "data['Bulatan'] = [0 for i in range (jumlah_data)]\n",
    "data['Ransum'] = [0 for i in range (jumlah_data)]\n",
    "data['Kelas'] = [0 for i in range (jumlah_data)]\n",
    "\n",
    "#Memasukkan data dari csv\n",
    "for i in range(jumlah_data):\n",
    "    file[i] = list(map(str,file[i].split(',')))\n",
    "    data['id'][i] = clearNewLine(file[i][0])\n",
    "    data['Daerah'][i] = clearNewLine(file[i][1])\n",
    "    data['SumbuUtama'][i] = float(clearNewLine(file[i][2]))\n",
    "    data['SumbuKecil'][i] = float(clearNewLine(file[i][3]))\n",
    "    data['Keunikan'][i] = float(clearNewLine(file[i][4]))\n",
    "    data['AreaBulatan'][i] = clearNewLine(file[i][5])\n",
    "    data['Diameter'][i] = float(clearNewLine(file[i][6]))\n",
    "    data['KadarAir'][i] = float(clearNewLine(file[i][7]))\n",
    "    data['Keliling'][i] = float(clearNewLine(file[i][8]))\n",
    "    data['Bulatan'][i] = float(clearNewLine(file[i][9]))\n",
    "    data['Ransum'][i] = float(clearNewLine(file[i][10]))\n",
    "    data['Kelas'][i] = clearNewLine(file[i][11])\n",
    "    \n",
    "#Mengubah data menjadi dataframe\n",
    "df = pd.DataFrame(data=data)\n",
    "print(df)"
   ]
  },
  {
   "cell_type": "code",
   "execution_count": null,
   "id": "5fa83e11",
   "metadata": {},
   "outputs": [],
   "source": []
  },
  {
   "cell_type": "code",
   "execution_count": null,
   "id": "bc879d88",
   "metadata": {},
   "outputs": [],
   "source": []
  }
 ],
 "metadata": {
  "kernelspec": {
   "display_name": "Python 3",
   "language": "python",
   "name": "python3"
  },
  "language_info": {
   "codemirror_mode": {
    "name": "ipython",
    "version": 3
   },
   "file_extension": ".py",
   "mimetype": "text/x-python",
   "name": "python",
   "nbconvert_exporter": "python",
   "pygments_lexer": "ipython3",
   "version": "3.8.5"
  }
 },
 "nbformat": 4,
 "nbformat_minor": 5
}
