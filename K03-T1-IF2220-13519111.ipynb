{
 "cells": [
  {
   "cell_type": "code",
   "execution_count": null,
   "id": "7efb5810",
   "metadata": {},
   "outputs": [],
   "source": [
    "import pandas as pd\n",
    "import matplotlib.pyplot as plt\n",
    "import scipy.stats as stats\n",
    "\n",
    "#Fungsi menghapus new line\n",
    "def clearNewLine(string):\n",
    "    if(string[len(string)-1] == '\\n'):\n",
    "        return string[:-1]\n",
    "    else:\n",
    "        return string\n",
    "\n",
    "#Membuka file csv\n",
    "file = open('Gandum.csv','r')\n",
    "file = file.readlines()\n",
    "\n",
    "#Inisiasi data\n",
    "data = {}\n",
    "jumlah_data = 500\n",
    "data['id'] = [0 for i in range (jumlah_data)]\n",
    "data['Daerah'] = [0 for i in range (jumlah_data)]\n",
    "data['SumbuUtama'] = [0 for i in range (jumlah_data)]\n",
    "data['SumbuKecil'] = [0 for i in range (jumlah_data)]\n",
    "data['Keunikan'] = [0 for i in range (jumlah_data)]\n",
    "data['AreaBulatan'] = [0 for i in range (jumlah_data)]\n",
    "data['Diameter'] = [0 for i in range (jumlah_data)]\n",
    "data['KadarAir'] = [0 for i in range (jumlah_data)]\n",
    "data['Keliling'] = [0 for i in range (jumlah_data)]\n",
    "data['Bulatan'] = [0 for i in range (jumlah_data)]\n",
    "data['Ransum'] = [0 for i in range (jumlah_data)]\n",
    "data['Kelas'] = [0 for i in range (jumlah_data)]\n",
    "\n",
    "#Memasukkan data dari csv\n",
    "for i in range(jumlah_data):\n",
    "    file[i] = list(map(str,file[i].split(',')))\n",
    "    data['id'][i] = clearNewLine(file[i][0])\n",
    "    data['Daerah'][i] = int(clearNewLine(file[i][1]))\n",
    "    data['SumbuUtama'][i] = float(clearNewLine(file[i][2]))\n",
    "    data['SumbuKecil'][i] = float(clearNewLine(file[i][3]))\n",
    "    data['Keunikan'][i] = float(clearNewLine(file[i][4]))\n",
    "    data['AreaBulatan'][i] = int(clearNewLine(file[i][5]))\n",
    "    data['Diameter'][i] = float(clearNewLine(file[i][6]))\n",
    "    data['KadarAir'][i] = float(clearNewLine(file[i][7]))\n",
    "    data['Keliling'][i] = float(clearNewLine(file[i][8]))\n",
    "    data['Bulatan'][i] = float(clearNewLine(file[i][9]))\n",
    "    data['Ransum'][i] = float(clearNewLine(file[i][10]))\n",
    "    data['Kelas'][i] = int(clearNewLine(file[i][11]))\n",
    "    \n",
    "numerik_data = ['Daerah','SumbuUtama','SumbuKecil','Keunikan','AreaBulatan','Diameter','KadarAir','Keliling','Bulatan','Ransum']\n",
    "    \n",
    "#Mengubah data menjadi dataframe\n",
    "df = pd.DataFrame(data=data)\n",
    "df.style.hide_index()"
   ]
  },
  {
   "cell_type": "code",
   "execution_count": 69,
   "id": "6208565c",
   "metadata": {},
   "outputs": [
    {
     "name": "stdout",
     "output_type": "stream",
     "text": [
      "==================================================\n",
      "Daerah:\n",
      "Mean \t\t: 4801.246\n",
      "Median \t\t: 4735.0\n",
      "Modus \t\t:\n",
      "3992\n",
      "4881\n",
      "5642\n",
      "6083\n",
      "Standar deviasi : 986.3954914816017\n",
      "Variansi \t: 972976.0656152305\n",
      "Range \t\t: 4931\n",
      "Minimum \t: 2522\n",
      "Maksimum \t: 7453\n",
      "Kuartil 1 \t: 4042.75\n",
      "Kuartil 2 \t: 4735.0\n",
      "Kuartil 3 \t: 5495.5\n",
      "IQR \t\t: 1452.75\n",
      "Skewness \t: 0.23814408738280812\n",
      "Kurtosis \t: -0.4346305340273977\n",
      "==================================================\n",
      "SumbuUtama:\n",
      "Mean \t\t: 116.04517136778\n",
      "Median \t\t: 115.40513995\n",
      "Modus \t\t: Tidak ada modus\n",
      "Standar deviasi : 18.28262595755935\n",
      "Variansi \t: 334.25441190402296\n",
      "Range \t\t: 153.79546865999998\n",
      "Minimum \t: 74.13311404\n",
      "Maksimum \t: 227.9285827\n",
      "Kuartil 1 \t: 104.116098175\n",
      "Kuartil 2 \t: 115.40513995\n",
      "Kuartil 3 \t: 129.046792025\n",
      "IQR \t\t: 24.930693849999997\n",
      "Skewness \t: 0.7615287378076652\n",
      "Kurtosis \t: 4.33053354843697\n",
      "==================================================\n",
      "SumbuKecil:\n",
      "Mean \t\t: 53.71524598896\n",
      "Median \t\t: 53.731198774999996\n",
      "Modus \t\t: Tidak ada modus\n",
      "Standar deviasi : 4.0710747524750355\n",
      "Variansi \t: 16.57364964023967\n",
      "Range \t\t: 29.071182429999993\n",
      "Minimum \t: 39.90651744\n",
      "Maksimum \t: 68.97769987\n",
      "Kuartil 1 \t: 51.1935763325\n",
      "Kuartil 2 \t: 53.731198774999996\n",
      "Kuartil 3 \t: 56.3251579825\n",
      "IQR \t\t: 5.131581650000001\n",
      "Skewness \t: -0.010828051555611359\n",
      "Kurtosis \t: 0.475568450438137\n",
      "==================================================\n",
      "Keunikan:\n",
      "Mean \t\t: 0.8787639143399999\n",
      "Median \t\t: 0.8900454185\n",
      "Modus \t\t: Tidak ada modus\n",
      "Standar deviasi : 0.036585905504777014\n",
      "Variansi \t: 0.0013385284816044732\n",
      "Range \t\t: 0.19408517999999997\n",
      "Minimum \t: 0.719916226\n",
      "Maksimum \t: 0.914001406\n",
      "Kuartil 1 \t: 0.86367575275\n",
      "Kuartil 2 \t: 0.8900454185\n",
      "Kuartil 3 \t: 0.907577917\n",
      "IQR \t\t: 0.04390216425000004\n",
      "Skewness \t: -1.6234718222806501\n",
      "Kurtosis \t: 2.917255925694391\n",
      "==================================================\n",
      "AreaBulatan:\n",
      "Mean \t\t: 4937.048\n",
      "Median \t\t: 4857.0\n",
      "Modus \t\t:\n",
      "3802\n",
      "4913\n",
      "Standar deviasi : 1011.6962549701573\n",
      "Variansi \t: 1023529.3123206414\n",
      "Range \t\t: 5141\n",
      "Minimum \t: 2579\n",
      "Maksimum \t: 7720\n",
      "Kuartil 1 \t: 4170.25\n",
      "Kuartil 2 \t: 4857.0\n",
      "Kuartil 3 \t: 5654.25\n",
      "IQR \t\t: 1484.0\n",
      "Skewness \t: 0.2575600053152032\n",
      "Kurtosis \t: -0.40968492037366033\n",
      "==================================================\n",
      "Diameter:\n",
      "Mean \t\t: 77.77115780832001\n",
      "Median \t\t: 77.64527658\n",
      "Modus \t\t:\n",
      "71.29356396\n",
      "78.83325579\n",
      "84.75622403\n",
      "88.00634154\n",
      "Standar deviasi : 8.056867291849713\n",
      "Variansi \t: 64.91311055847774\n",
      "Range \t\t: 40.747172240000005\n",
      "Minimum \t: 56.66665803\n",
      "Maksimum \t: 97.41383027\n",
      "Kuartil 1 \t: 71.7453075475\n",
      "Kuartil 2 \t: 77.64527658\n",
      "Kuartil 3 \t: 83.6485975675\n",
      "IQR \t\t: 11.90329002\n",
      "Skewness \t: 0.002724966865193717\n",
      "Kurtosis \t: -0.46645451303121455\n",
      "==================================================\n",
      "KadarAir:\n",
      "Mean \t\t: 0.6483716718979999\n",
      "Median \t\t: 0.626116699\n",
      "Modus \t\t:\n",
      "0.735849057\n",
      "0.824404762\n",
      "Standar deviasi : 0.09436709809379533\n",
      "Variansi \t: 0.00890514920264399\n",
      "Range \t\t: 0.46897193099999995\n",
      "Minimum \t: 0.409927152\n",
      "Maksimum \t: 0.878899083\n",
      "Kuartil 1 \t: 0.57263245725\n",
      "Kuartil 2 \t: 0.626116699\n",
      "Kuartil 3 \t: 0.7266333445\n",
      "IQR \t\t: 0.15400088724999994\n",
      "Skewness \t: 0.49366131797330265\n",
      "Kurtosis \t: -0.7403261705867821\n",
      "==================================================\n",
      "Keliling:\n",
      "Mean \t\t: 281.4797219999999\n",
      "Median \t\t: 280.0455\n",
      "Modus \t\t: Tidak ada modus\n",
      "Standar deviasi : 37.33540171514401\n",
      "Variansi \t: 1393.9322212311781\n",
      "Range \t\t: 291.822\n",
      "Minimum \t: 197.015\n",
      "Maksimum \t: 488.837\n",
      "Kuartil 1 \t: 255.883\n",
      "Kuartil 2 \t: 280.0455\n",
      "Kuartil 3 \t: 306.0625\n",
      "IQR \t\t: 50.17949999999999\n",
      "Skewness \t: 0.7336269072005543\n",
      "Kurtosis \t: 2.272684731245573\n",
      "==================================================\n",
      "Bulatan:\n",
      "Mean \t\t: 0.7617374363080001\n",
      "Median \t\t: 0.7612884394999999\n",
      "Modus \t\t: Tidak ada modus\n",
      "Standar deviasi : 0.06170246078673261\n",
      "Variansi \t: 0.0038071936671382756\n",
      "Range \t\t: 0.730158135\n",
      "Minimum \t: 0.174590178\n",
      "Maksimum \t: 0.904748313\n",
      "Kuartil 1 \t: 0.731990728\n",
      "Kuartil 2 \t: 0.7612884394999999\n",
      "Kuartil 3 \t: 0.79636096975\n",
      "IQR \t\t: 0.06437024175000006\n",
      "Skewness \t: -3.599236766361642\n",
      "Kurtosis \t: 29.975095904630063\n",
      "==================================================\n",
      "Ransum:\n",
      "Mean \t\t: 2.150915331084\n",
      "Median \t\t: 2.1935990365\n",
      "Modus \t\t: Tidak ada modus\n",
      "Standar deviasi : 0.2497668892706582\n",
      "Variansi \t: 0.06238349897594124\n",
      "Range \t\t: 1.0240129660000001\n",
      "Minimum \t: 1.440795615\n",
      "Maksimum \t: 2.464808581\n",
      "Kuartil 1 \t: 1.98393879075\n",
      "Kuartil 2 \t: 2.1935990365\n",
      "Kuartil 3 \t: 2.38161221825\n",
      "IQR \t\t: 0.3976734275\n",
      "Skewness \t: -0.6581880925333655\n",
      "Kurtosis \t: -0.4286557930626147\n"
     ]
    }
   ],
   "source": [
    "#NO 1\n",
    "#Menulis deskripsi statistika (Descriptive Statistics) dari semua kolom pada data yang bersifat numerik, \n",
    "#terdiri dari mean, median, modus, standar deviasi, variansi, range, nilai minimum, maksimum, kuartil, \n",
    "#IQR, skewness dan kurtosis. Boleh juga ditambahkan deskripsi lain.\n",
    "\n",
    "#Mencari modus\n",
    "def findMode(modes):\n",
    "    if(len(modes) == 500):\n",
    "        print(\"Modus \\t\\t: Tidak ada modus\")\n",
    "    else:\n",
    "        print(\"Modus \\t\\t:\")\n",
    "        for mode in modes:\n",
    "            print(mode)\n",
    "            \n",
    "#Menampilkan deskripsi statistika \n",
    "def statisticsDescriptive(atribut):\n",
    "    print(atribut+\":\")\n",
    "    print(\"Mean \\t\\t\" + \": \" + str(df[atribut].mean()))\n",
    "    print(\"Median \\t\\t\" + \": \" + str(df[atribut].median()))\n",
    "    findMode(df[atribut].mode())\n",
    "    print(\"Standar deviasi \" + \": \" + str(df[atribut].std()))\n",
    "    print(\"Variansi \\t\" + \": \" + str(df[atribut].var()))\n",
    "    print(\"Range \\t\\t\" + \": \" + str(df[atribut].max() - df[atribut].min()))\n",
    "    print(\"Minimum \\t\" + \": \" + str(df[atribut].min()))\n",
    "    print(\"Maksimum \\t\" + \": \" + str(df[atribut].max()))\n",
    "    print(\"Kuartil 1 \\t\" + \": \" + str(df[atribut].quantile(0.25)))\n",
    "    print(\"Kuartil 2 \\t\" + \": \" + str(df[atribut].quantile(0.50)))\n",
    "    print(\"Kuartil 3 \\t\" + \": \" + str(df[atribut].quantile(0.75)))\n",
    "    print(\"IQR \\t\\t\" + \": \" + str(df[atribut].quantile(0.75) - df[atribut].quantile(0.25)))\n",
    "    print(\"Skewness \\t\" + \": \" + str(df[atribut].skew()))\n",
    "    print(\"Kurtosis \\t\" + \": \" + str(df[atribut].kurt()))\n",
    "\n",
    "#Menulis deskripsi statistika\n",
    "for atribut in numerik_data:\n",
    "    print(50*\"=\")\n",
    "    statisticsDescriptive(atribut)"
   ]
  },
  {
   "cell_type": "code",
   "execution_count": 70,
   "id": "54bf4822",
   "metadata": {},
   "outputs": [],
   "source": [
    "#NO 2\n",
    "#Membuat Visualisasi plot distribusi, dalam bentuk  histogram dan boxplot untuk setiap kolom numerik. \n",
    "#Berikan uraian penjelasan kondisi setiap kolom berdasarkan kedua plot tersebut.\n",
    "\n",
    "#Menampilkan visualisasi histogram dan boxplot\n",
    "def visualization(atribut):\n",
    "    fig, axs = plt.subplots(1,2)\n",
    "    df[atribut].hist(ax=axs[0])\n",
    "    df.boxplot(ax=axs[1], column=[atribut])\n",
    "    \n",
    "#Uraian penjelasan kondisi setiap kolom berdasarkan kedua plot\n",
    "def describePlot(atribut):\n",
    "    print(100*\"=\")\n",
    "    #Kondisi berdasarkan histogram\n",
    "    print(\"Berdasarkan histogram, kolom \" + atribut, end=\" \")\n",
    "    if(df[atribut].skew() > 0):\n",
    "        print(\"memiliki mean yang lebih besar daripada median.\")\n",
    "    elif(df[atribut].skew() < 0):\n",
    "        print(\"memiliki mean yang lebih kecil daripada median.\")\n",
    "    else:\n",
    "        print(\"memiliki mean yang sama dengan median.\")\n",
    "        \n",
    "    #Kondisi berdasarkan boxplot\n",
    "    print(\"Berdasarkan boxplot, kolom \" + atribut, end=\" \")\n",
    "    IQR = df[atribut].quantile(0.75) - df[atribut].quantile(0.25)\n",
    "    PD = df[atribut].quantile(0.25) - (3/2)*IQR\n",
    "    PL = df[atribut].quantile(0.75) + (3/2)*IQR\n",
    "    if(PL < df[atribut].max() or PD > df[atribut].min()):\n",
    "        print(\"memiliki outlier.\")\n",
    "    else:\n",
    "        print(\"tidak memiliki outlier.\")"
   ]
  },
  {
   "cell_type": "code",
   "execution_count": 71,
   "id": "9b52a998",
   "metadata": {},
   "outputs": [
    {
     "data": {
      "image/png": "[encoded data removed]",
      "text/plain": [
       "<Figure size 432x288 with 2 Axes>"
      ]
     },
     "metadata": {
      "needs_background": "light"
     },
     "output_type": "display_data"
    },
    {
     "data": {
      "image/png": "[encoded data removed]",
      "text/plain": [
       "<Figure size 432x288 with 2 Axes>"
      ]
     },
     "metadata": {
      "needs_background": "light"
     },
     "output_type": "display_data"
    },
    {
     "data": {
      "image/png": "[encoded data removed]",
      "text/plain": [
       "<Figure size 432x288 with 2 Axes>"
      ]
     },
     "metadata": {
      "needs_background": "light"
     },
     "output_type": "display_data"
    },
    {
     "data": {
      "image/png": "[encoded data removed]",
      "text/plain": [
       "<Figure size 432x288 with 2 Axes>"
      ]
     },
     "metadata": {
      "needs_background": "light"
     },
     "output_type": "display_data"
    },
    {
     "data": {
      "image/png": "[encoded data removed]",
      "text/plain": [
       "<Figure size 432x288 with 2 Axes>"
      ]
     },
     "metadata": {
      "needs_background": "light"
     },
     "output_type": "display_data"
    },
    {
     "data": {
      "image/png": "[encoded data removed]",
      "text/plain": [
       "<Figure size 432x288 with 2 Axes>"
      ]
     },
     "metadata": {
      "needs_background": "light"
     },
     "output_type": "display_data"
    },
    {
     "data": {
      "image/png": "[encoded data removed]",
      "text/plain": [
       "<Figure size 432x288 with 2 Axes>"
      ]
     },
     "metadata": {
      "needs_background": "light"
     },
     "output_type": "display_data"
    },
    {
     "data": {
      "image/png": "[encoded data removed]",
      "text/plain": [
       "<Figure size 432x288 with 2 Axes>"
      ]
     },
     "metadata": {
      "needs_background": "light"
     },
     "output_type": "display_data"
    },
    {
     "data": {
      "image/png": "[encoded data removed]",
      "text/plain": [
       "<Figure size 432x288 with 2 Axes>"
      ]
     },
     "metadata": {
      "needs_background": "light"
     },
     "output_type": "display_data"
    },
    {
     "data": {
      "image/png": "[encoded data removed]",
      "text/plain": [
       "<Figure size 432x288 with 2 Axes>"
      ]
     },
     "metadata": {
      "needs_background": "light"
     },
     "output_type": "display_data"
    }
   ],
   "source": [
    "#No 2 visualisasi histogram dan boxplot\n",
    "for atribut in numerik_data:\n",
    "    visualization(atribut)"
   ]
  },
  {
   "cell_type": "code",
   "execution_count": 72,
   "id": "89600a4b",
   "metadata": {},
   "outputs": [
    {
     "name": "stdout",
     "output_type": "stream",
     "text": [
      "====================================================================================================\n",
      "Berdasarkan histogram, kolom Daerah memiliki mean yang lebih besar daripada median.\n",
      "Berdasarkan boxplot, kolom Daerah tidak memiliki outlier.\n",
      "====================================================================================================\n",
      "Berdasarkan histogram, kolom SumbuUtama memiliki mean yang lebih besar daripada median.\n",
      "Berdasarkan boxplot, kolom SumbuUtama memiliki outlier.\n",
      "====================================================================================================\n",
      "Berdasarkan histogram, kolom SumbuKecil memiliki mean yang lebih kecil daripada median.\n",
      "Berdasarkan boxplot, kolom SumbuKecil memiliki outlier.\n",
      "====================================================================================================\n",
      "Berdasarkan histogram, kolom Keunikan memiliki mean yang lebih kecil daripada median.\n",
      "Berdasarkan boxplot, kolom Keunikan memiliki outlier.\n",
      "====================================================================================================\n",
      "Berdasarkan histogram, kolom AreaBulatan memiliki mean yang lebih besar daripada median.\n",
      "Berdasarkan boxplot, kolom AreaBulatan tidak memiliki outlier.\n",
      "====================================================================================================\n",
      "Berdasarkan histogram, kolom Diameter memiliki mean yang lebih besar daripada median.\n",
      "Berdasarkan boxplot, kolom Diameter tidak memiliki outlier.\n",
      "====================================================================================================\n",
      "Berdasarkan histogram, kolom KadarAir memiliki mean yang lebih besar daripada median.\n",
      "Berdasarkan boxplot, kolom KadarAir tidak memiliki outlier.\n",
      "====================================================================================================\n",
      "Berdasarkan histogram, kolom Keliling memiliki mean yang lebih besar daripada median.\n",
      "Berdasarkan boxplot, kolom Keliling memiliki outlier.\n",
      "====================================================================================================\n",
      "Berdasarkan histogram, kolom Bulatan memiliki mean yang lebih kecil daripada median.\n",
      "Berdasarkan boxplot, kolom Bulatan memiliki outlier.\n",
      "====================================================================================================\n",
      "Berdasarkan histogram, kolom Ransum memiliki mean yang lebih kecil daripada median.\n",
      "Berdasarkan boxplot, kolom Ransum tidak memiliki outlier.\n"
     ]
    }
   ],
   "source": [
    "#NO 2 Menjelaskan kondisi kolom berdasarkan plot\n",
    "for atribut in numerik_data:\n",
    "    describePlot(atribut)"
   ]
  },
  {
   "cell_type": "code",
   "execution_count": 73,
   "id": "ace973f5",
   "metadata": {},
   "outputs": [
    {
     "name": "stdout",
     "output_type": "stream",
     "text": [
      "====================================================================================================\n",
      "Daerah:\n",
      "W:0.9907860159873962 , p=0.003270698245614767\n",
      "Daerah terdistribusi tidak normal\n",
      "====================================================================================================\n",
      "SumbuUtama:\n",
      "W:0.9513812065124512 , p=9.236201213569384e-12\n",
      "SumbuUtama terdistribusi tidak normal\n",
      "====================================================================================================\n",
      "SumbuKecil:\n",
      "W:0.996778666973114 , p=0.4234558641910553\n",
      "SumbuKecil terdistribusi normal\n",
      "====================================================================================================\n",
      "Keunikan:\n",
      "W:0.8309029340744019 , p=1.3151663082081454e-22\n",
      "Keunikan terdistribusi tidak normal\n",
      "====================================================================================================\n",
      "AreaBulatan:\n",
      "W:0.990435779094696 , p=0.0024847122840583324\n",
      "AreaBulatan terdistribusi tidak normal\n",
      "====================================================================================================\n",
      "Diameter:\n",
      "W:0.9951366186141968 , p=0.11834503710269928\n",
      "Diameter terdistribusi normal\n",
      "====================================================================================================\n",
      "KadarAir:\n",
      "W:0.9466671347618103 , p=1.959499836695633e-12\n",
      "KadarAir terdistribusi tidak normal\n",
      "====================================================================================================\n",
      "Keliling:\n",
      "W:0.9692449569702148 , p=9.728394090302572e-09\n",
      "Keliling terdistribusi tidak normal\n",
      "====================================================================================================\n",
      "Bulatan:\n",
      "W:0.7697757482528687 , p=6.899158691421287e-26\n",
      "Bulatan terdistribusi tidak normal\n",
      "====================================================================================================\n",
      "Ransum:\n",
      "W:0.9265043139457703 , p=6.245541108888591e-15\n",
      "Ransum terdistribusi tidak normal\n"
     ]
    }
   ],
   "source": [
    "#No 3\n",
    "#Menentukan setiap kolom numerik berdistribusi normal atau tidak. \n",
    "#Gunakan normality test yang dikaitkan dengan histogram plot.\n",
    "\n",
    "#Normality menggunakan Shapiro\n",
    "def normality(atribut):\n",
    "    print(100*'=')\n",
    "    print(atribut+\":\")\n",
    "    W,p=stats.shapiro(df[atribut])\n",
    "    print(\"W:{0} , p={1}\".format(W,p))\n",
    "    if(p>0.05):\n",
    "        print(atribut+\" terdistribusi normal\")\n",
    "    else:\n",
    "        print(atribut+\" terdistribusi tidak normal\")\n",
    "    \n",
    "for atribut in numerik_data:\n",
    "    normality(atribut)"
   ]
  },
  {
   "cell_type": "code",
   "execution_count": 74,
   "id": "bd3e42c7",
   "metadata": {},
   "outputs": [
    {
     "name": "stdout",
     "output_type": "stream",
     "text": [
      "H0 = 4700\n",
      "H1 > 4700\n",
      "alpha = 0.05\n",
      "Uji Z, dengan daerah kritis z > 1.645.\n",
      "P(Z > 2.2951538242525173) = 0.010862\n",
      "Nilai rata-rata Daerah di atas 4700.\n",
      "====================================================================================================\n",
      "H0 = 116\n",
      "H1 != 116\n",
      "alpha = 0.05\n",
      "Uji Z, dengan daerah kritis z > 1.645.\n",
      "P(Z > 0.05524712326730106) = 0.47797\n",
      "Nilai Rata-rata Sumbu Utama sama dengan 116.\n",
      "====================================================================================================\n",
      "H0 = 50\n",
      "H1 != 50\n",
      "alpha = 0.05\n",
      "Uji Z, dengan daerah kritis z > 1.645.\n",
      "P(Z > 6.478168916968894) = 0\n",
      "Nilai Rata-rata 20 baris pertama kolom Sumbu Kecil bukan 50.\n",
      "====================================================================================================\n",
      "H0 : p = 0.15\n",
      "H1 : p != 0.15\n",
      "alpha = 0.05\n",
      "Uji Z, dengan daerah kritis z < 1.645.\n",
      "P(Z < -9.19936436627724) = 0\n",
      "Proporsi nilai Diameter yang lebih dari 85, adalah tidak sama dengan 15%.\n",
      "====================================================================================================\n",
      "H0 : p = 0.05\n",
      "H1 : p < 0.05\n",
      "alpha = 0.05\n",
      "Uji Z, dengan daerah kritis z > 1.645.\n",
      "P(Z > -5.129891760425771) = 0\n",
      "Proporsi nilai Keliling yang kurang dari 100, adalah kurang dari 5%.\n"
     ]
    }
   ],
   "source": [
    "#No 4\n",
    "#Melakukan test hipotesis 1 sampel, dengan menuliskan 6 langkah testing \n",
    "#dan menampilkan juga boxplotnya untuk kolom/bagian yang bersesuaian.\n",
    "\n",
    "#a. Nilai rata-rata Daerah di atas 4700?\n",
    "#H0 = 4700\n",
    "print('H0 = 4700')\n",
    "#H1 > 4700\n",
    "print('H1 > 4700')\n",
    "#alpha = 0.05\n",
    "print('alpha = 0.05')\n",
    "#Uji statistik dan daerah kritis\n",
    "print('Uji Z, dengan daerah kritis z > 1.645.')\n",
    "nilaiUji = (df['Daerah'].mean() - 4700)/(df['Daerah'].std()/(500**(1/2)))\n",
    "pvalue = 0.010862\n",
    "print('P(Z > ' + str(nilaiUji) + ')' + ' = ' + str(pvalue))\n",
    "#Pengambilan Keputusan\n",
    "if(nilaiUji > 1.645 or pvalue < 0.05):\n",
    "    print(\"Nilai rata-rata Daerah di atas 4700.\")\n",
    "else:\n",
    "    print(\"Nilai rata-rata Daerah tidak di atas 4700.\")\n",
    "\n",
    "print(100*'=') \n",
    "#b.Nilai Rata-rata Sumbu Utama tidak sama dengan 116?\n",
    "#H0 = 116\n",
    "print('H0 = 116')\n",
    "#H1 > 4700\n",
    "print('H1 != 116')\n",
    "#alpha = 0.05\n",
    "print('alpha = 0.05')\n",
    "#Uji statistik dan daerah kritis\n",
    "print('Uji Z, dengan daerah kritis z > 1.645.')\n",
    "nilaiUji = (df['SumbuUtama'].mean() - 116)/(df['SumbuUtama'].std()/(500**(1/2)))\n",
    "pvalue = 0.47797\n",
    "print('P(Z > ' + str(nilaiUji) + ')' + ' = ' + str(pvalue))\n",
    "#Pengambilan keputusan\n",
    "if(nilaiUji > 1.645 or pvalue < 0.05):\n",
    "    print(\"Nilai Rata-rata Sumbu Utama tidak sama dengan 116.\")\n",
    "else:\n",
    "    print(\"Nilai Rata-rata Sumbu Utama sama dengan 116.\")\n",
    "    \n",
    "print(100*'=')    \n",
    "#c. Nilai Rata-rata 20 baris pertama kolom Sumbu Kecil bukan 50\n",
    "#H0 = 50\n",
    "print('H0 = 50')\n",
    "#H1 > 4700\n",
    "print('H1 != 50')\n",
    "#alpha = 0.05\n",
    "print('alpha = 0.05')\n",
    "#Uji statistik dan daerah kritis\n",
    "print('Uji Z, dengan daerah kritis z > 1.645.')\n",
    "nilaiUji = (df['SumbuKecil'][0:20].mean() - 50)/(df['SumbuKecil'][0:20].std()/(20**(1/2)))\n",
    "pvalue = 0\n",
    "print('P(Z > ' + str(nilaiUji) + ')' + ' = ' + str(pvalue))\n",
    "#Pengambilan keputusan\n",
    "if(nilaiUji > 1.645 or pvalue < 0.05):\n",
    "    print(\"Nilai Rata-rata 20 baris pertama kolom Sumbu Kecil bukan 50.\")\n",
    "else:\n",
    "    print(\"Nilai Rata-rata 20 baris pertama kolom Sumbu Kecil 50.\")\n",
    "    \n",
    "print(100*\"=\")\n",
    "#d. Proporsi nilai Diameter yang lebih dari 85, adalah tidak sama dengan 15%.\n",
    "#H0: p = 0.15\n",
    "print('H0 : p = 0.15')\n",
    "#H1 : p != 0.15\n",
    "print('H1 : p != 0.15')\n",
    "#alpha = 0.05\n",
    "print(\"alpha = 0.05\")\n",
    "#Uji statistik dan daerah kritis\n",
    "print('Uji Z, dengan daerah kritis z < 1.645.')\n",
    "count = 0\n",
    "for diameter in df['Diameter']:\n",
    "    if(diameter > 85):\n",
    "        count += 1\n",
    "proporsi =  count/500\n",
    "nilaiUji = (proporsi - 0.15/ ((0.15*0.85/500)**(1/2)))\n",
    "pvalue = 0\n",
    "print('P(Z < ' + str(nilaiUji) + ')' + ' = ' + str(pvalue))\n",
    "#Pengambilan keputusan\n",
    "if(nilaiUji > 1.645 or pvalue < 0.05):\n",
    "    print(\"Proporsi nilai Diameter yang lebih dari 85, adalah tidak sama dengan 15%.\")\n",
    "else:\n",
    "    print(\"Proporsi nilai Diameter yang lebih dari 85, adalah sama dengan 15%.\")\n",
    "    \n",
    "print(100*'=')\n",
    "#e.Proporsi nilai Keliling yang kurang dari 100, adalah kurang dari 5%.\n",
    "#H0: p = 0.05\n",
    "print('H0 : p = 0.05')\n",
    "#H1 : p < 0.05\n",
    "print('H1 : p < 0.05')\n",
    "#alpha = 0.05\n",
    "print(\"alpha = 0.05\")\n",
    "#Uji statistik dan daerah kritis\n",
    "print('Uji Z, dengan daerah kritis z > 1.645.')\n",
    "count = 0\n",
    "for keliling in df['Keliling']:\n",
    "    if(keliling < 100):\n",
    "        count += 1\n",
    "proporsi =  count/500\n",
    "nilaiUji = (proporsi - 0.05/ ((0.05*0.95/500)**(1/2)))\n",
    "pvalue = 0\n",
    "print('P(Z > ' + str(nilaiUji) + ')' + ' = ' + str(pvalue))\n",
    "#Pengambilan keputusan\n",
    "if(nilaiUji > 1.645 or pvalue < 0.05):\n",
    "    print(\"Proporsi nilai Keliling yang kurang dari 100, adalah kurang dari 5%.\")\n",
    "else:\n",
    "    print(\"Proporsi nilai Keliling yang kurang dari 100, adalah tidak kurang dari 5%.\")"
   ]
  },
  {
   "cell_type": "code",
   "execution_count": 75,
   "id": "8b52c426",
   "metadata": {},
   "outputs": [
    {
     "name": "stdout",
     "output_type": "stream",
     "text": [
      "H0 = 0\n",
      "H1 > 0\n",
      "alpha = 0.05\n",
      "Uji Z, dengan daerah kritis z > 1.645.\n",
      "P(Z > -15.803043524838857) = 1\n",
      "Nilai rata-rata bagian awal dan bagian akhir kolom AreaBulatan tidak sama.\n",
      "====================================================================================================\n",
      "H0 = 0.2\n",
      "H1 > 0.2\n",
      "alpha = 0.05\n",
      "Uji Z, dengan daerah kritis z > 1.645.\n",
      "P(Z > -26.903444249744943) = 1\n",
      "Nilai rata-rata bagian awal kolom Kadar Air tidak lebih besar 0.2 daripada bagian akhir kolom Kadar Air.\n",
      "====================================================================================================\n",
      "H0 = 0\n",
      "H1 > 0\n",
      "alpha = 0.05\n",
      "Uji Z, dengan daerah kritis z > 1.645.\n",
      "P(Z > -3.3792268633123896) = 0.99964\n",
      "Rata-rata 20 baris pertama kolom Bulatan tidak sama dengan 20 baris terakhirnya.\n",
      "====================================================================================================\n",
      "H0: p1<=2\n",
      "H1: p1>p2\n",
      "alpha = 0.05\n",
      "Uji Z, dengan daerah kritis z > 1.645.\n",
      "P(Z > 18.946907047233847) = 0\n",
      "Proporsi nilai bagian awal Ransum yang lebih dari 2, lebih besar daripada proporsi nilai yang sama di bagian akhir.\n",
      "====================================================================================================\n",
      "H0: variansi1=variansi2\n",
      "H1: variansi1 != variansi2\n",
      "alpha = 0.5\n",
      "Karena 0.233 < 1.083878022042188 = F < 4.283, maka variansinya sama.\n"
     ]
    }
   ],
   "source": [
    "#No 5 Melakukan test hipotesis 2 sampel, dengan menuliskan 6 langkah testing dan \n",
    "#menampilkan juga boxplotnya untuk kolom/bagian yang bersesuaian.\n",
    "\n",
    "#a. Data kolom AreaBulatan dibagi 2 sama rata: bagian awal dan bagian akhir kolom. \n",
    "#Benarkah rata-rata kedua bagian tersebut sama?\n",
    "#H0 = 0\n",
    "print('H0 = 0')\n",
    "#H1 > 0\n",
    "print('H1 > 0')\n",
    "#alpha = 0.05\n",
    "print('alpha = 0.05')\n",
    "#Uji statistik dan daerah kritis\n",
    "print('Uji Z, dengan daerah kritis z > 1.645.')\n",
    "rAwal = df['AreaBulatan'][0:250].mean()\n",
    "rAkhir = df['AreaBulatan'][250:500].mean()\n",
    "varAwal = df['AreaBulatan'][0:250].var()\n",
    "varAkhir = df['AreaBulatan'][0:250].var()\n",
    "nilaiUji = (((rAkhir-rAwal) - 0)/((varAwal/250 + varAkhir/250)**0.5))\n",
    "pvalue = 1\n",
    "print('P(Z > ' + str(nilaiUji) + ')' + ' = ' + str(pvalue))\n",
    "#Pengambilan Keputusan\n",
    "if(nilaiUji > 1.645 or pvalue < 0.05):\n",
    "    print(\"Nilai rata-rata bagian awal dan bagian akhir kolom AreaBulatan sama.\")\n",
    "else:\n",
    "    print(\"Nilai rata-rata bagian awal dan bagian akhir kolom AreaBulatan tidak sama.\")\n",
    "\n",
    "print(100*\"=\")\n",
    "#b. Data kolom Kadar Air dibagi 2 sama rata: bagian awal dan bagian akhir kolom. \n",
    "#Benarkah rata-rata bagian awal lebih besar dari pada bagian akhir sebesar 0.2?\n",
    "#H0 = 0.2\n",
    "print('H0 = 0.2')\n",
    "#H1 > 0.2\n",
    "print('H1 > 0.2')\n",
    "#alpha = 0.05\n",
    "print('alpha = 0.05')\n",
    "#Uji statistik dan daerah kritis\n",
    "print('Uji Z, dengan daerah kritis z > 1.645.')\n",
    "data_kadarAir = {}\n",
    "data_kadarAir['awal'] = [0 for i in range (250)]\n",
    "data_kadarAir['akhir'] = [0 for i in range (250)]\n",
    "for i in range(250):\n",
    "    data_kadarAir['awal'][i] = df.loc[i,'KadarAir']\n",
    "    data_kadarAir['akhir'][i] = df.loc[i+250,'KadarAir']\n",
    "dfKadarAir = pd.DataFrame(data=data_kadarAir)\n",
    "rAwal = dfKadarAir['awal'].mean()\n",
    "rAkhir = dfKadarAir['akhir'].mean()\n",
    "varAwal = dfKadarAir['awal'].var()\n",
    "varAkhir = dfKadarAir['akhir'].var()\n",
    "nilaiUji = (((rAwal-rAkhir) - 0.2)/((varAwal/250 + varAkhir/250)**0.5))\n",
    "pvalue = 1\n",
    "print('P(Z > ' + str(nilaiUji) + ')' + ' = ' + str(pvalue))\n",
    "#Pengambilan Keputusan\n",
    "if(nilaiUji > 1.645 or pvalue < 0.05):\n",
    "    print(\"Nilai rata-rata bagian awal kolom Kadar Air lebih besar 0.2 daripada bagian akhir kolom Kadar Air.\")\n",
    "else:\n",
    "    print(\"Nilai rata-rata bagian awal kolom Kadar Air tidak lebih besar 0.2 daripada bagian akhir kolom Kadar Air.\")\n",
    "\n",
    "print(100*\"=\")\n",
    "#c. Rata-rata 20 baris pertama kolom Bulatan sama dengan 20 baris terakhirnya?\n",
    "#H0 = 0\n",
    "print('H0 = 0')\n",
    "#H1 > 0\n",
    "print('H1 > 0')\n",
    "#alpha = 0.05\n",
    "print('alpha = 0.05')\n",
    "#Uji statistik dan daerah kritis\n",
    "print('Uji Z, dengan daerah kritis z > 1.645.')\n",
    "rAwal = df['Bulatan'][0:20].mean()\n",
    "rAkhir = df['Bulatan'][480:500].mean()\n",
    "varAwal = df['Bulatan'][0:20].var()\n",
    "varAkhir = df['Bulatan'][480:500].var()\n",
    "nilaiUji = (((rAwal-rAkhir) - 0)/((varAwal/20 + varAkhir/20)**0.5))\n",
    "pvalue = 0.99964\n",
    "print('P(Z > ' + str(nilaiUji) + ')' + ' = ' + str(pvalue))\n",
    "#Pengambilan Keputusan\n",
    "if(nilaiUji > 1.645 or pvalue < 0.05):\n",
    "    print(\"Rata-rata 20 baris pertama kolom Bulatan sama dengan 20 baris terakhirnya.\")\n",
    "else:\n",
    "    print(\"Rata-rata 20 baris pertama kolom Bulatan tidak sama dengan 20 baris terakhirnya.\")\n",
    "\n",
    "print(100*\"=\")\n",
    "#d. Proporsi nilai bagian awal Ransum yang lebih dari 2, adalah lebih besar daripada, \n",
    "#proporsi nilai yang sama di bagian akhir Ransum?\n",
    "print('H0: p1<=2')\n",
    "print('H1: p1>p2')\n",
    "print(\"alpha = 0.05\")\n",
    "print('Uji Z, dengan daerah kritis z > 1.645.')\n",
    "count1=0\n",
    "count2=0\n",
    "for i in range (500):\n",
    "    if(i<250):\n",
    "        if(df['Ransum'][i]>2):\n",
    "            count1+=1\n",
    "    else:\n",
    "        if(df['Ransum'][i]>2):\n",
    "            count2+=1\n",
    "proporsi1=count1/250\n",
    "proporsi2=count2/250\n",
    "proporsi3=(count1+count2)/500\n",
    "pembilang=(proporsi1-proporsi2)\n",
    "penyebut=(proporsi3*(1-proporsi3)/250)**(1/2)\n",
    "z=pembilang/penyebut\n",
    "pvalue = 0\n",
    "print('P(Z > ' + str(z) + ')' + ' = ' + str(pvalue))\n",
    "if(z > 1.645 or pvalue < 0.05):\n",
    "    print(\"Proporsi nilai bagian awal Ransum yang lebih dari 2, lebih besar daripada proporsi nilai yang sama di bagian akhir.\")\n",
    "else:\n",
    "    print(\"Proporsi nilai bagian awal Ransum yang lebih dari 2, tidak lebih besar daripada proporsi nilai yang sama di bagian akhir.\")\n",
    "\n",
    "#e. Bagian awal kolom Diameter memiliki variansi yang sama dengan bagian akhirnya?\n",
    "print(100*\"=\")\n",
    "print(\"H0: variansi1=variansi2\")\n",
    "print(\"H1: variansi1 != variansi2\")\n",
    "print(\"alpha = 0.5\")\n",
    "f12=4.283\n",
    "f21=0.233\n",
    "F=(df['Diameter'][0:250].var() / df['Diameter'][250:500].var())\n",
    "if(F>f21 and F<f12):\n",
    "    print(\"Karena \"+str(f21)+\" < \"+str(F)+\" = F \"+\"< \"+str(f12)+\", maka variansinya sama.\")\n",
    "else:\n",
    "    print(\"Karena F terletak dalam area penolakan maka variansinya berbeda.\")"
   ]
  },
  {
   "cell_type": "code",
   "execution_count": 76,
   "id": "322316dc",
   "metadata": {},
   "outputs": [],
   "source": [
    "#No 6 Test korelasi: tentukan apakah setiap kolom non-target berkorelasi dengan kolom target, \n",
    "#dengan menggambarkan juga scatter plot nya. Gunakan correlation test.\n",
    "\n",
    "#Menggambar scatter plot\n",
    "def scatterPlot(atribut):\n",
    "    df.plot(kind=\"scatter\", x=atribut, y=\"Kelas\")    \n",
    "\n",
    "#Menentukan koefisien korelasi dan korelasi kolom non-target dengan kolom target\n",
    "def correlationTest(atribut):\n",
    "    coefficientCorrelation = df[atribut].corr(df['Kelas'])\n",
    "    print(\"Koefisian korelasi kolom\", atribut, \"dan Kelas =\",coefficientCorrelation)\n",
    "    if(coefficientCorrelation >= -0.5 and coefficientCorrelation <= 0.5):\n",
    "        print(\"Kolom\", atribut, \"dan Kelas tidak berkorelasi.\")\n",
    "    else:\n",
    "        if(coefficientCorrelation > 0.5):\n",
    "            print(\"Kolom\", atribut, \"dan Kelas berbanding lurus.\")\n",
    "        else:\n",
    "            print(\"Kolom\", atribut, \"dan Kelas berbanding terbalik\")"
   ]
  },
  {
   "cell_type": "code",
   "execution_count": 77,
   "id": "78f6fd62",
   "metadata": {},
   "outputs": [
    {
     "name": "stdout",
     "output_type": "stream",
     "text": [
      "====================================================================================================\n",
      "Koefisian korelasi kolom Daerah dan Kelas = -0.6027466517416661\n",
      "Kolom Daerah dan Kelas berbanding terbalik\n",
      "====================================================================================================\n",
      "Koefisian korelasi kolom SumbuUtama dan Kelas = -0.7130906104204593\n",
      "Kolom SumbuUtama dan Kelas berbanding terbalik\n",
      "====================================================================================================\n",
      "Koefisian korelasi kolom SumbuKecil dan Kelas = -0.15297517335535027\n",
      "Kolom SumbuKecil dan Kelas tidak berkorelasi.\n",
      "====================================================================================================\n",
      "Koefisian korelasi kolom Keunikan dan Kelas = -0.7304563686511923\n",
      "Kolom Keunikan dan Kelas berbanding terbalik\n",
      "====================================================================================================\n",
      "Koefisian korelasi kolom AreaBulatan dan Kelas = -0.6073125434153751\n",
      "Kolom AreaBulatan dan Kelas berbanding terbalik\n",
      "====================================================================================================\n",
      "Koefisian korelasi kolom Diameter dan Kelas = -0.6025356896618813\n",
      "Kolom Diameter dan Kelas berbanding terbalik\n",
      "====================================================================================================\n",
      "Koefisian korelasi kolom KadarAir dan Kelas = 0.13434422605727642\n",
      "Kolom KadarAir dan Kelas tidak berkorelasi.\n",
      "====================================================================================================\n",
      "Koefisian korelasi kolom Keliling dan Kelas = -0.6348607454756855\n",
      "Kolom Keliling dan Kelas berbanding terbalik\n",
      "====================================================================================================\n",
      "Koefisian korelasi kolom Bulatan dan Kelas = 0.5450045317240078\n",
      "Kolom Bulatan dan Kelas berbanding lurus.\n",
      "====================================================================================================\n",
      "Koefisian korelasi kolom Ransum dan Kelas = -0.8399038681287492\n",
      "Kolom Ransum dan Kelas berbanding terbalik\n"
     ]
    }
   ],
   "source": [
    "#No 6 menentukan korelasi\n",
    "for kolom in numerik_data:\n",
    "    print(100*\"=\")\n",
    "    correlationTest(kolom)"
   ]
  },
  {
   "cell_type": "code",
   "execution_count": 78,
   "id": "850b2ae9",
   "metadata": {},
   "outputs": [
    {
     "data": {
      "image/png": "[encoded data removed]",
      "text/plain": [
       "<Figure size 432x288 with 1 Axes>"
      ]
     },
     "metadata": {
      "needs_background": "light"
     },
     "output_type": "display_data"
    },
    {
     "data": {
      "image/png": "[encoded data removed]",
      "text/plain": [
       "<Figure size 432x288 with 1 Axes>"
      ]
     },
     "metadata": {
      "needs_background": "light"
     },
     "output_type": "display_data"
    },
    {
     "data": {
      "image/png": "[encoded data removed]",
      "text/plain": [
       "<Figure size 432x288 with 1 Axes>"
      ]
     },
     "metadata": {
      "needs_background": "light"
     },
     "output_type": "display_data"
    },
    {
     "data": {
      "image/png": "[encoded data removed]",
      "text/plain": [
       "<Figure size 432x288 with 1 Axes>"
      ]
     },
     "metadata": {
      "needs_background": "light"
     },
     "output_type": "display_data"
    },
    {
     "data": {
      "image/png": "[encoded data removed]",
      "text/plain": [
       "<Figure size 432x288 with 1 Axes>"
      ]
     },
     "metadata": {
      "needs_background": "light"
     },
     "output_type": "display_data"
    },
    {
     "data": {
      "image/png": "[encoded data removed]",
      "text/plain": [
       "<Figure size 432x288 with 1 Axes>"
      ]
     },
     "metadata": {
      "needs_background": "light"
     },
     "output_type": "display_data"
    },
    {
     "data": {
      "image/png": "[encoded data removed]",
      "text/plain": [
       "<Figure size 432x288 with 1 Axes>"
      ]
     },
     "metadata": {
      "needs_background": "light"
     },
     "output_type": "display_data"
    },
    {
     "data": {
      "image/png": "[encoded data removed]",
      "text/plain": [
       "<Figure size 432x288 with 1 Axes>"
      ]
     },
     "metadata": {
      "needs_background": "light"
     },
     "output_type": "display_data"
    },
    {
     "data": {
      "image/png": "[encoded data removed]",
      "text/plain": [
       "<Figure size 432x288 with 1 Axes>"
      ]
     },
     "metadata": {
      "needs_background": "light"
     },
     "output_type": "display_data"
    },
    {
     "data": {
      "image/png": "[encoded data removed]",
      "text/plain": [
       "<Figure size 432x288 with 1 Axes>"
      ]
     },
     "metadata": {
      "needs_background": "light"
     },
     "output_type": "display_data"
    }
   ],
   "source": [
    "#No 6 gambar scatter plot\n",
    "for kolom in numerik_data:\n",
    "    scatterPlot(kolom)"
   ]
  }
 ],
 "metadata": {
  "kernelspec": {
   "display_name": "Python 3",
   "language": "python",
   "name": "python3"
  },
  "language_info": {
   "codemirror_mode": {
    "name": "ipython",
    "version": 3
   },
   "file_extension": ".py",
   "mimetype": "text/x-python",
   "name": "python",
   "nbconvert_exporter": "python",
   "pygments_lexer": "ipython3",
   "version": "3.8.5"
  }
 },
 "nbformat": 4,
 "nbformat_minor": 5
}
