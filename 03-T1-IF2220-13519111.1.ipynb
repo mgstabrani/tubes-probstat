{
 "cells": [
  {
   "cell_type": "code",
   "execution_count": 47,
   "id": "d7036e04",
   "metadata": {},
   "outputs": [
    {
     "name": "stdout",
     "output_type": "stream",
     "text": [
      "      id  Daerah  SumbuUtama  SumbuKecil  Keunikan  AreaBulatan   Diameter  \\\n",
      "0      1    5781  128.288875   58.470846  0.890095         5954  85.793926   \n",
      "1      2    4176  109.348294   49.837688  0.890098         4277  72.918093   \n",
      "2      3    4555  114.427991   52.151207  0.890105         4706  76.155145   \n",
      "3      4    4141  108.701190   49.457349  0.890499         4236  72.611879   \n",
      "4      5    5273  122.747868   55.757848  0.890876         5431  81.937733   \n",
      "..   ...     ...         ...         ...       ...          ...        ...   \n",
      "495  496    5083  120.083450   54.821580  0.889709         5179  80.447975   \n",
      "496  497    4432  112.367050   51.294914  0.889726         4550  75.119889   \n",
      "497  498    5020  119.873742   54.718545  0.889740         5104  79.947874   \n",
      "498  499    4035  107.311728   48.930802  0.889996         4150  71.676506   \n",
      "499  500    3379   99.014789   44.631551  0.892647         3491  65.591741   \n",
      "\n",
      "     KadarAir  Keliling   Bulatan    Ransum Kelas  \n",
      "0    0.674090   316.756  0.724041  2.194066     1  \n",
      "1    0.596231   260.346  0.774227  2.194088     1  \n",
      "2    0.776641   279.606  0.732159  2.194158     1  \n",
      "3    0.633180   260.478  0.766961  2.197877     1  \n",
      "4    0.669842   302.730  0.723031  2.201446     1  \n",
      "..        ...       ...       ...       ...   ...  \n",
      "495  0.534827   286.377  0.778850  2.190441     2  \n",
      "496  0.601194   270.823  0.759344  2.190608     2  \n",
      "497  0.528421   285.799  0.772311  2.190733     2  \n",
      "498  0.584698   258.503  0.758791  2.193132     2  \n",
      "499  0.653578   237.593  0.752196  2.218493     2  \n",
      "\n",
      "[500 rows x 12 columns]\n"
     ]
    }
   ],
   "source": [
    "import numpy as np\n",
    "import seaborn as sns\n",
    "import pandas as pd\n",
    "import matplotlib.pyplot as plt\n",
    "\n",
    "#Fungsi menghapus new line\n",
    "def clearNewLine(string):\n",
    "    if(string[len(string)-1] == '\\n'):\n",
    "        return string[:-1]\n",
    "    else:\n",
    "        return string\n",
    "\n",
    "#Membuka file csv\n",
    "file = open('Gandum.csv','r')\n",
    "file = file.readlines()\n",
    "\n",
    "#Inisiasi data\n",
    "data = {}\n",
    "jumlah_data = 500\n",
    "data['id'] = [0 for i in range (jumlah_data)]\n",
    "data['Daerah'] = [0 for i in range (jumlah_data)]\n",
    "data['SumbuUtama'] = [0 for i in range (jumlah_data)]\n",
    "data['SumbuKecil'] = [0 for i in range (jumlah_data)]\n",
    "data['Keunikan'] = [0 for i in range (jumlah_data)]\n",
    "data['AreaBulatan'] = [0 for i in range (jumlah_data)]\n",
    "data['Diameter'] = [0 for i in range (jumlah_data)]\n",
    "data['KadarAir'] = [0 for i in range (jumlah_data)]\n",
    "data['Keliling'] = [0 for i in range (jumlah_data)]\n",
    "data['Bulatan'] = [0 for i in range (jumlah_data)]\n",
    "data['Ransum'] = [0 for i in range (jumlah_data)]\n",
    "data['Kelas'] = [0 for i in range (jumlah_data)]\n",
    "\n",
    "#Memasukkan data dari csv\n",
    "for i in range(jumlah_data):\n",
    "    file[i] = list(map(str,file[i].split(',')))\n",
    "    data['id'][i] = int(clearNewLine(file[i][0]))\n",
    "    data['Daerah'][i] = int(clearNewLine(file[i][1]))\n",
    "    data['SumbuUtama'][i] = float(clearNewLine(file[i][2]))\n",
    "    data['SumbuKecil'][i] = float(clearNewLine(file[i][3]))\n",
    "    data['Keunikan'][i] = float(clearNewLine(file[i][4]))\n",
    "    data['AreaBulatan'][i] = int(clearNewLine(file[i][5]))\n",
    "    data['Diameter'][i] = float(clearNewLine(file[i][6]))\n",
    "    data['KadarAir'][i] = float(clearNewLine(file[i][7]))\n",
    "    data['Keliling'][i] = float(clearNewLine(file[i][8]))\n",
    "    data['Bulatan'][i] = float(clearNewLine(file[i][9]))\n",
    "    data['Ransum'][i] = float(clearNewLine(file[i][10]))\n",
    "    data['Kelas'][i] = clearNewLine(file[i][11])\n",
    "    \n",
    "#Mengubah data menjadi dataframe\n",
    "df = pd.DataFrame(data=data)\n",
    "print(df)"
   ]
  },
  {
   "cell_type": "code",
   "execution_count": 73,
   "id": "active-copyright",
   "metadata": {},
   "outputs": [
    {
     "name": "stdout",
     "output_type": "stream",
     "text": [
      "Daerah:\n",
      "Mean: 4801.246\n",
      "Median: 4735.0\n",
      "Modus: 0    3992\n",
      "1    4881\n",
      "2    5642\n",
      "3    6083\n",
      "dtype: int64\n",
      "Standar Deviasi: 986.3954914816017\n",
      "Variansi: 972976.0656152305\n",
      "Range: 4931\n",
      "Nilai Maksimum: 2522\n",
      "Nilai Minimum: 7453\n",
      "Quartil: 0.25    4042.75\n",
      "0.50    4735.00\n",
      "0.75    5495.50\n",
      "Name: Daerah, dtype: float64\n",
      "IQR: 1452.75\n",
      "Skewness: 0.23814408738280812\n",
      "Kurtosis: -0.4346305340273977\n"
     ]
    },
    {
     "data": {
      "image/png": "[encoded data removed]",
      "text/plain": [
       "<Figure size 432x288 with 1 Axes>"
      ]
     },
     "metadata": {},
     "output_type": "display_data"
    }
   ],
   "source": [
    "print(\"Daerah:\")\n",
    "print(\"Mean: \"+str(df['Daerah'].mean()))\n",
    "print(\"Median: \"+str(df[\"Daerah\"].median()))\n",
    "print(\"Modus: \"+str(df[\"Daerah\"].mode()))\n",
    "print(\"Standar Deviasi: \"+str(df[\"Daerah\"].std()))\n",
    "print(\"Variansi: \"+str(df[\"Daerah\"].var()))\n",
    "print(\"Range: \"+str(data[\"Daerah\"][df[\"Daerah\"].idxmax()]-data[\"Daerah\"][df[\"Daerah\"].idxmin()]))\n",
    "print(\"Nilai Maksimum: \"+str(data[\"Daerah\"][df[\"Daerah\"].idxmin()]))\n",
    "print(\"Nilai Minimum: \"+str(data[\"Daerah\"][df[\"Daerah\"].idxmax()]))\n",
    "print(\"Quartil: \"+str(df['Daerah'].quantile([.25,.5,.75])))\n",
    "print(\"IQR: \"+str(df['Daerah'].quantile(0.75) - df['Daerah'].quantile(0.25)))\n",
    "print(\"Skewness: \"+str(df['Daerah'].skew()))\n",
    "print(\"Kurtosis: \"+str(df[\"Daerah\"].kurt()))\n",
    "boxplot = df.boxplot(column=['Daerah'])"
   ]
  },
  {
   "cell_type": "code",
   "execution_count": 72,
   "id": "funky-paraguay",
   "metadata": {},
   "outputs": [
    {
     "name": "stdout",
     "output_type": "stream",
     "text": [
      "SumbuUtama:\n",
      "Mean: 116.04517136778\n",
      "Median: 115.40513995\n",
      "Modus: 0       74.133114\n",
      "1       74.364021\n",
      "2       74.691881\n",
      "3       76.293164\n",
      "4       76.789043\n",
      "          ...    \n",
      "495    152.068440\n",
      "496    152.113491\n",
      "497    153.583387\n",
      "498    227.105462\n",
      "499    227.928583\n",
      "Length: 500, dtype: float64\n",
      "Standar Deviasi: 18.28262595755935\n",
      "Variansi: 334.25441190402296\n",
      "Range: 153.79546865999998\n",
      "Nilai Maksimum: 74.13311404\n",
      "Nilai Minimum: 227.9285827\n",
      "Quartil: 0.25    104.116098\n",
      "0.50    115.405140\n",
      "0.75    129.046792\n",
      "Name: SumbuUtama, dtype: float64\n",
      "IQR: 24.930693849999997\n",
      "Skewness: 0.7615287378076652\n",
      "Kurtosis: 4.33053354843697\n"
     ]
    },
    {
     "data": {
      "image/png": "[encoded data removed]",
      "text/plain": [
       "<Figure size 432x288 with 1 Axes>"
      ]
     },
     "metadata": {},
     "output_type": "display_data"
    }
   ],
   "source": [
    "print(\"SumbuUtama:\")\n",
    "print(\"Mean: \"+str(df['SumbuUtama'].mean()))\n",
    "print(\"Median: \"+str(df[\"SumbuUtama\"].median()))\n",
    "print(\"Modus: \"+str(df[\"SumbuUtama\"].mode()))\n",
    "print(\"Standar Deviasi: \"+str(df[\"SumbuUtama\"].std()))\n",
    "print(\"Variansi: \"+str(df[\"SumbuUtama\"].var()))\n",
    "print(\"Range: \"+str(data[\"SumbuUtama\"][df[\"SumbuUtama\"].idxmax()]-data[\"SumbuUtama\"][df[\"SumbuUtama\"].idxmin()]))\n",
    "print(\"Nilai Maksimum: \"+str(data[\"SumbuUtama\"][df[\"SumbuUtama\"].idxmin()]))\n",
    "print(\"Nilai Minimum: \"+str(data[\"SumbuUtama\"][df[\"SumbuUtama\"].idxmax()]))\n",
    "print(\"Quartil: \"+str(df['SumbuUtama'].quantile([.25,.5,.75])))\n",
    "print(\"IQR: \"+str(df['SumbuUtama'].quantile(0.75) - df['SumbuUtama'].quantile(0.25)))\n",
    "print(\"Skewness: \"+str(df['SumbuUtama'].skew()))\n",
    "print(\"Kurtosis: \"+str(df[\"SumbuUtama\"].kurt()))\n",
    "boxplot = df.boxplot(column=['SumbuUtama'])"
   ]
  },
  {
   "cell_type": "code",
   "execution_count": 71,
   "id": "recorded-anniversary",
   "metadata": {},
   "outputs": [
    {
     "name": "stdout",
     "output_type": "stream",
     "text": [
      "SumbuKecil:\n",
      "Mean: 53.71524598896\n",
      "Median: 53.731198774999996\n",
      "Modus: 0      39.906517\n",
      "1      41.436419\n",
      "2      42.871879\n",
      "3      43.284979\n",
      "4      44.119355\n",
      "         ...    \n",
      "495    63.322854\n",
      "496    63.762307\n",
      "497    64.012769\n",
      "498    65.738475\n",
      "499    68.977700\n",
      "Length: 500, dtype: float64\n",
      "Standar Deviasi: 4.0710747524750355\n",
      "Variansi: 16.57364964023967\n",
      "Range: 29.071182429999993\n",
      "Nilai Maksimum: 39.90651744\n",
      "Nilai Minimum: 68.97769987\n",
      "Quartil: 0.25    51.193576\n",
      "0.50    53.731199\n",
      "0.75    56.325158\n",
      "Name: SumbuKecil, dtype: float64\n",
      "IQR: 5.131581650000001\n",
      "Skewness: -0.010828051555611359\n",
      "Kurtosis: 0.475568450438137\n"
     ]
    },
    {
     "data": {
      "image/png": "[encoded data removed]",
      "text/plain": [
       "<Figure size 432x288 with 1 Axes>"
      ]
     },
     "metadata": {},
     "output_type": "display_data"
    }
   ],
   "source": [
    "print(\"SumbuKecil:\")\n",
    "print(\"Mean: \"+str(df['SumbuKecil'].mean()))\n",
    "print(\"Median: \"+str(df[\"SumbuKecil\"].median()))\n",
    "print(\"Modus: \"+str(df[\"SumbuKecil\"].mode()))\n",
    "print(\"Standar Deviasi: \"+str(df[\"SumbuKecil\"].std()))\n",
    "print(\"Variansi: \"+str(df[\"SumbuKecil\"].var()))\n",
    "print(\"Range: \"+str(data[\"SumbuKecil\"][df[\"SumbuKecil\"].idxmax()]-data[\"SumbuKecil\"][df[\"SumbuKecil\"].idxmin()]))\n",
    "print(\"Nilai Maksimum: \"+str(data[\"SumbuKecil\"][df[\"SumbuKecil\"].idxmin()]))\n",
    "print(\"Nilai Minimum: \"+str(data[\"SumbuKecil\"][df[\"SumbuKecil\"].idxmax()]))\n",
    "print(\"Quartil: \"+str(df['SumbuKecil'].quantile([.25,.5,.75])))\n",
    "print(\"IQR: \"+str(df['SumbuKecil'].quantile(0.75) - df['SumbuKecil'].quantile(0.25)))\n",
    "print(\"Skewness: \"+str(df['SumbuKecil'].skew()))\n",
    "print(\"Kurtosis: \"+str(df[\"SumbuKecil\"].kurt()))\n",
    "boxplot = df.boxplot(column=['SumbuKecil'])"
   ]
  },
  {
   "cell_type": "code",
   "execution_count": 70,
   "id": "downtown-depression",
   "metadata": {},
   "outputs": [
    {
     "name": "stdout",
     "output_type": "stream",
     "text": [
      "Keunikan:\n",
      "Mean: 0.8787639143399999\n",
      "Median: 0.8900454185\n",
      "Modus: 0      0.719916\n",
      "1      0.725553\n",
      "2      0.731211\n",
      "3      0.738639\n",
      "4      0.749282\n",
      "         ...   \n",
      "495    0.913724\n",
      "496    0.913760\n",
      "497    0.913891\n",
      "498    0.913909\n",
      "499    0.914001\n",
      "Length: 500, dtype: float64\n",
      "Standar Deviasi: 0.036585905504777014\n",
      "Variansi: 0.0013385284816044732\n",
      "Range: 0.19408517999999997\n",
      "Nilai Maksimum: 0.719916226\n",
      "Nilai Minimum: 0.914001406\n",
      "Quartil: 0.25    0.863676\n",
      "0.50    0.890045\n",
      "0.75    0.907578\n",
      "Name: Keunikan, dtype: float64\n",
      "IQR: 0.04390216425000004\n",
      "Skewness: -1.6234718222806501\n",
      "Kurtosis: 2.917255925694391\n"
     ]
    },
    {
     "data": {
      "image/png": "[encoded data removed]",
      "text/plain": [
       "<Figure size 432x288 with 1 Axes>"
      ]
     },
     "metadata": {},
     "output_type": "display_data"
    }
   ],
   "source": [
    "print(\"Keunikan:\")\n",
    "print(\"Mean: \"+str(df['Keunikan'].mean()))\n",
    "print(\"Median: \"+str(df[\"Keunikan\"].median()))\n",
    "print(\"Modus: \"+str(df[\"Keunikan\"].mode()))\n",
    "print(\"Standar Deviasi: \"+str(df[\"Keunikan\"].std()))\n",
    "print(\"Variansi: \"+str(df[\"Keunikan\"].var()))\n",
    "print(\"Range: \"+str(data[\"Keunikan\"][df[\"Keunikan\"].idxmax()]-data[\"Keunikan\"][df[\"Keunikan\"].idxmin()]))\n",
    "print(\"Nilai Maksimum: \"+str(data[\"Keunikan\"][df[\"Keunikan\"].idxmin()]))\n",
    "print(\"Nilai Minimum: \"+str(data[\"Keunikan\"][df[\"Keunikan\"].idxmax()]))\n",
    "print(\"Quartil: \"+str(df['Keunikan'].quantile([.25,.5,.75])))\n",
    "print(\"IQR: \"+str(df['Keunikan'].quantile(0.75) - df['Keunikan'].quantile(0.25)))\n",
    "print(\"Skewness: \"+str(df['Keunikan'].skew()))\n",
    "print(\"Kurtosis: \"+str(df[\"Keunikan\"].kurt()))\n",
    "boxplot = df.boxplot(column=['Keunikan'])"
   ]
  },
  {
   "cell_type": "code",
   "execution_count": 69,
   "id": "manual-cream",
   "metadata": {},
   "outputs": [
    {
     "name": "stdout",
     "output_type": "stream",
     "text": [
      "AreaBulatan:\n",
      "Mean: 4937.048\n",
      "Median: 4857.0\n",
      "Modus: 0    3802\n",
      "1    4913\n",
      "dtype: int64\n",
      "Standar Deviasi: 1011.6962549701573\n",
      "Variansi: 1023529.3123206414\n",
      "Range: 5141\n",
      "Nilai Maksimum: 2579\n",
      "Nilai Minimum: 7720\n",
      "Quartil: 0.25    4170.25\n",
      "0.50    4857.00\n",
      "0.75    5654.25\n",
      "Name: AreaBulatan, dtype: float64\n",
      "IQR: 1484.0\n",
      "Skewness: 0.2575600053152032\n",
      "Kurtosis: -0.40968492037366033\n"
     ]
    },
    {
     "data": {
      "image/png": "[encoded data removed]",
      "text/plain": [
       "<Figure size 432x288 with 1 Axes>"
      ]
     },
     "metadata": {},
     "output_type": "display_data"
    }
   ],
   "source": [
    "print(\"AreaBulatan:\")\n",
    "print(\"Mean: \"+str(df['AreaBulatan'].mean()))\n",
    "print(\"Median: \"+str(df[\"AreaBulatan\"].median()))\n",
    "print(\"Modus: \"+str(df[\"AreaBulatan\"].mode()))\n",
    "print(\"Standar Deviasi: \"+str(df[\"AreaBulatan\"].std()))\n",
    "print(\"Variansi: \"+str(df[\"AreaBulatan\"].var()))\n",
    "print(\"Range: \"+str(data[\"AreaBulatan\"][df[\"AreaBulatan\"].idxmax()]-data[\"AreaBulatan\"][df[\"AreaBulatan\"].idxmin()]))\n",
    "print(\"Nilai Maksimum: \"+str(data[\"AreaBulatan\"][df[\"AreaBulatan\"].idxmin()]))\n",
    "print(\"Nilai Minimum: \"+str(data[\"AreaBulatan\"][df[\"AreaBulatan\"].idxmax()]))\n",
    "print(\"Quartil: \"+str(df['AreaBulatan'].quantile([.25,.5,.75])))\n",
    "print(\"IQR: \"+str(df['AreaBulatan'].quantile(0.75) - df['AreaBulatan'].quantile(0.25)))\n",
    "print(\"Skewness: \"+str(df['AreaBulatan'].skew()))\n",
    "print(\"Kurtosis: \"+str(df[\"AreaBulatan\"].kurt()))\n",
    "boxplot = df.boxplot(column=['AreaBulatan'])"
   ]
  },
  {
   "cell_type": "code",
   "execution_count": 68,
   "id": "verified-writer",
   "metadata": {},
   "outputs": [
    {
     "name": "stdout",
     "output_type": "stream",
     "text": [
      "Diameter:\n",
      "Mean: 77.77115780832001\n",
      "Median: 77.64527658\n",
      "Modus: 0    71.293564\n",
      "1    78.833256\n",
      "2    84.756224\n",
      "3    88.006342\n",
      "dtype: float64\n",
      "Standar Deviasi: 8.056867291849713\n",
      "Variansi: 64.91311055847774\n",
      "Range: 40.747172240000005\n",
      "Nilai Maksimum: 56.66665803\n",
      "Nilai Minimum: 97.41383027\n",
      "Quartil: 0.25    71.745308\n",
      "0.50    77.645277\n",
      "0.75    83.648598\n",
      "Name: Diameter, dtype: float64\n",
      "IQR: 11.90329002\n",
      "Skewness: 0.002724966865193717\n",
      "Kurtosis: -0.46645451303121455\n"
     ]
    },
    {
     "data": {
      "image/png": "[encoded data removed]",
      "text/plain": [
       "<Figure size 432x288 with 1 Axes>"
      ]
     },
     "metadata": {},
     "output_type": "display_data"
    }
   ],
   "source": [
    "print(\"Diameter:\")\n",
    "print(\"Mean: \"+str(df['Diameter'].mean()))\n",
    "print(\"Median: \"+str(df[\"Diameter\"].median()))\n",
    "print(\"Modus: \"+str(df[\"Diameter\"].mode()))\n",
    "print(\"Standar Deviasi: \"+str(df[\"Diameter\"].std()))\n",
    "print(\"Variansi: \"+str(df[\"Diameter\"].var()))\n",
    "print(\"Range: \"+str(data[\"Diameter\"][df[\"Diameter\"].idxmax()]-data[\"Diameter\"][df[\"Diameter\"].idxmin()]))\n",
    "print(\"Nilai Maksimum: \"+str(data[\"Diameter\"][df[\"Diameter\"].idxmin()]))\n",
    "print(\"Nilai Minimum: \"+str(data[\"Diameter\"][df[\"Diameter\"].idxmax()]))\n",
    "print(\"Quartil: \"+str(df['Diameter'].quantile([.25,.5,.75])))\n",
    "print(\"IQR: \"+str(df['Diameter'].quantile(0.75) - df['Diameter'].quantile(0.25)))\n",
    "print(\"Skewness: \"+str(df['Diameter'].skew()))\n",
    "print(\"Kurtosis: \"+str(df[\"Diameter\"].kurt()))\n",
    "boxplot = df.boxplot(column=['Diameter'])"
   ]
  },
  {
   "cell_type": "code",
   "execution_count": 67,
   "id": "authentic-speech",
   "metadata": {},
   "outputs": [
    {
     "name": "stdout",
     "output_type": "stream",
     "text": [
      "KadarAir:\n",
      "Mean: 0.6483716718979999\n",
      "Median: 0.626116699\n",
      "Modus: 0    0.735849\n",
      "1    0.824405\n",
      "dtype: float64\n",
      "Standar Deviasi: 0.09436709809379533\n",
      "Variansi: 0.00890514920264399\n",
      "Range: 0.46897193099999995\n",
      "Nilai Maksimum: 0.409927152\n",
      "Nilai Minimum: 0.878899083\n",
      "Quartil: 0.25    0.572632\n",
      "0.50    0.626117\n",
      "0.75    0.726633\n",
      "Name: KadarAir, dtype: float64\n",
      "IQR: 0.15400088724999994\n",
      "Skewness: 0.49366131797330265\n",
      "Kurtosis: -0.7403261705867821\n"
     ]
    },
    {
     "data": {
      "image/png": "[encoded data removed]",
      "text/plain": [
       "<Figure size 432x288 with 1 Axes>"
      ]
     },
     "metadata": {},
     "output_type": "display_data"
    }
   ],
   "source": [
    "print(\"KadarAir:\")\n",
    "print(\"Mean: \"+str(df['KadarAir'].mean()))\n",
    "print(\"Median: \"+str(df[\"KadarAir\"].median()))\n",
    "print(\"Modus: \"+str(df[\"KadarAir\"].mode()))\n",
    "print(\"Standar Deviasi: \"+str(df[\"KadarAir\"].std()))\n",
    "print(\"Variansi: \"+str(df[\"KadarAir\"].var()))\n",
    "print(\"Range: \"+str(data[\"KadarAir\"][df[\"KadarAir\"].idxmax()]-data[\"KadarAir\"][df[\"KadarAir\"].idxmin()]))\n",
    "print(\"Nilai Maksimum: \"+str(data[\"KadarAir\"][df[\"KadarAir\"].idxmin()]))\n",
    "print(\"Nilai Minimum: \"+str(data[\"KadarAir\"][df[\"KadarAir\"].idxmax()]))\n",
    "print(\"Quartil: \"+str(df['KadarAir'].quantile([.25,.5,.75])))\n",
    "print(\"IQR: \"+str(df['KadarAir'].quantile(0.75) - df['KadarAir'].quantile(0.25)))\n",
    "print(\"Skewness: \"+str(df['KadarAir'].skew()))\n",
    "print(\"Kurtosis: \"+str(df[\"KadarAir\"].kurt()))\n",
    "boxplot = df.boxplot(column=['KadarAir'])"
   ]
  },
  {
   "cell_type": "code",
   "execution_count": 66,
   "id": "furnished-david",
   "metadata": {},
   "outputs": [
    {
     "name": "stdout",
     "output_type": "stream",
     "text": [
      "Keliling:\n",
      "Mean: 281.4797219999999\n",
      "Median: 280.0455\n",
      "Modus: 0      197.015\n",
      "1      200.587\n",
      "2      202.456\n",
      "3      207.325\n",
      "4      207.697\n",
      "        ...   \n",
      "495    375.651\n",
      "496    390.125\n",
      "497    434.235\n",
      "498    448.305\n",
      "499    488.837\n",
      "Length: 500, dtype: float64\n",
      "Standar Deviasi: 37.33540171514401\n",
      "Variansi: 1393.9322212311781\n",
      "Range: 291.822\n",
      "Nilai Maksimum: 197.015\n",
      "Nilai Minimum: 488.837\n",
      "Quartil: 0.25    255.8830\n",
      "0.50    280.0455\n",
      "0.75    306.0625\n",
      "Name: Keliling, dtype: float64\n",
      "IQR: 50.17949999999999\n",
      "Skewness: 0.7336269072005543\n",
      "Kurtosis: 2.272684731245573\n"
     ]
    },
    {
     "data": {
      "image/png": "[encoded data removed]",
      "text/plain": [
       "<Figure size 432x288 with 1 Axes>"
      ]
     },
     "metadata": {},
     "output_type": "display_data"
    }
   ],
   "source": [
    "print(\"Keliling:\")\n",
    "print(\"Mean: \"+str(df['Keliling'].mean()))\n",
    "print(\"Median: \"+str(df[\"Keliling\"].median()))\n",
    "print(\"Modus: \"+str(df[\"Keliling\"].mode()))\n",
    "print(\"Standar Deviasi: \"+str(df[\"Keliling\"].std()))\n",
    "print(\"Variansi: \"+str(df[\"Keliling\"].var()))\n",
    "print(\"Range: \"+str(data[\"Keliling\"][df[\"Keliling\"].idxmax()]-data[\"Keliling\"][df[\"Keliling\"].idxmin()]))\n",
    "print(\"Nilai Maksimum: \"+str(data[\"Keliling\"][df[\"Keliling\"].idxmin()]))\n",
    "print(\"Nilai Minimum: \"+str(data[\"Keliling\"][df[\"Keliling\"].idxmax()]))\n",
    "print(\"Quartil: \"+str(df['Keliling'].quantile([.25,.5,.75])))\n",
    "print(\"IQR: \"+str(df['Keliling'].quantile(0.75) - df['Keliling'].quantile(0.25)))\n",
    "print(\"Skewness: \"+str(df['Keliling'].skew()))\n",
    "print(\"Kurtosis: \"+str(df[\"Keliling\"].kurt()))\n",
    "boxplot = df.boxplot(column=['Keliling'])"
   ]
  },
  {
   "cell_type": "code",
   "execution_count": 65,
   "id": "ongoing-indonesian",
   "metadata": {},
   "outputs": [
    {
     "name": "stdout",
     "output_type": "stream",
     "text": [
      "Bulatan:\n",
      "Mean: 0.7617374363080001\n",
      "Median: 0.7612884394999999\n",
      "Modus: 0      0.174590\n",
      "1      0.261297\n",
      "2      0.299298\n",
      "3      0.589146\n",
      "4      0.603807\n",
      "         ...   \n",
      "495    0.872417\n",
      "496    0.874243\n",
      "497    0.874743\n",
      "498    0.891706\n",
      "499    0.904748\n",
      "Length: 500, dtype: float64\n",
      "Standar Deviasi: 0.06170246078673261\n",
      "Variansi: 0.0038071936671382756\n",
      "Range: 0.730158135\n",
      "Nilai Maksimum: 0.174590178\n",
      "Nilai Minimum: 0.904748313\n",
      "Quartil: 0.25    0.731991\n",
      "0.50    0.761288\n",
      "0.75    0.796361\n",
      "Name: Bulatan, dtype: float64\n",
      "IQR: 0.06437024175000006\n",
      "Skewness: -3.599236766361642\n",
      "Kurtosis: 29.975095904630063\n"
     ]
    },
    {
     "data": {
      "image/png": "[encoded data removed]",
      "text/plain": [
       "<Figure size 432x288 with 1 Axes>"
      ]
     },
     "metadata": {},
     "output_type": "display_data"
    }
   ],
   "source": [
    "print(\"Bulatan:\")\n",
    "print(\"Mean: \"+str(df['Bulatan'].mean()))\n",
    "print(\"Median: \"+str(df[\"Bulatan\"].median()))\n",
    "print(\"Modus: \"+str(df[\"Bulatan\"].mode()))\n",
    "print(\"Standar Deviasi: \"+str(df[\"Bulatan\"].std()))\n",
    "print(\"Variansi: \"+str(df[\"Bulatan\"].var()))\n",
    "print(\"Range: \"+str(data[\"Bulatan\"][df[\"Bulatan\"].idxmax()]-data[\"Bulatan\"][df[\"Bulatan\"].idxmin()]))\n",
    "print(\"Nilai Maksimum: \"+str(data[\"Bulatan\"][df[\"Bulatan\"].idxmin()]))\n",
    "print(\"Nilai Minimum: \"+str(data[\"Bulatan\"][df[\"Bulatan\"].idxmax()]))\n",
    "print(\"Quartil: \"+str(df['Bulatan'].quantile([.25,.5,.75])))\n",
    "print(\"IQR: \"+str(df['Bulatan'].quantile(0.75) - df['Bulatan'].quantile(0.25)))\n",
    "print(\"Skewness: \"+str(df['Bulatan'].skew()))\n",
    "print(\"Kurtosis: \"+str(df[\"Bulatan\"].kurt()))\n",
    "boxplot = df.boxplot(column=['Bulatan'])"
   ]
  },
  {
   "cell_type": "code",
   "execution_count": 64,
   "id": "multiple-vinyl",
   "metadata": {},
   "outputs": [
    {
     "name": "stdout",
     "output_type": "stream",
     "text": [
      "Ransum:\n",
      "Mean: 2.150915331084\n",
      "Median: 2.1935990365\n",
      "Modus: 0      1.440796\n",
      "1      1.453137\n",
      "2      1.465950\n",
      "3      1.483456\n",
      "4      1.510000\n",
      "         ...   \n",
      "495    2.461017\n",
      "496    2.461510\n",
      "497    2.463297\n",
      "498    2.463546\n",
      "499    2.464809\n",
      "Length: 500, dtype: float64\n",
      "Standar Deviasi: 0.2497668892706582\n",
      "Variansi: 0.06238349897594124\n",
      "Range: 1.0240129660000001\n",
      "Nilai Maksimum: 1.440795615\n",
      "Nilai Minimum: 2.464808581\n",
      "Quartil: 0.25    1.983939\n",
      "0.50    2.193599\n",
      "0.75    2.381612\n",
      "Name: Ransum, dtype: float64\n",
      "IQR: 0.3976734275\n",
      "Skewness: -0.6581880925333655\n",
      "Kurtosis: -0.4286557930626147\n"
     ]
    },
    {
     "data": {
      "image/png": "[encoded data removed]",
      "text/plain": [
       "<Figure size 432x288 with 1 Axes>"
      ]
     },
     "metadata": {},
     "output_type": "display_data"
    }
   ],
   "source": [
    "print(\"Ransum:\")\n",
    "print(\"Mean: \"+str(df['Ransum'].mean()))\n",
    "print(\"Median: \"+str(df[\"Ransum\"].median()))\n",
    "print(\"Modus: \"+str(df[\"Ransum\"].mode()))\n",
    "print(\"Standar Deviasi: \"+str(df[\"Ransum\"].std()))\n",
    "print(\"Variansi: \"+str(df[\"Ransum\"].var()))\n",
    "print(\"Range: \"+str(data[\"Ransum\"][df[\"Ransum\"].idxmax()]-data[\"Ransum\"][df[\"Ransum\"].idxmin()]))\n",
    "print(\"Nilai Maksimum: \"+str(data[\"Ransum\"][df[\"Ransum\"].idxmin()]))\n",
    "print(\"Nilai Minimum: \"+str(data[\"Ransum\"][df[\"Ransum\"].idxmax()]))\n",
    "print(\"Quartil: \"+str(df['Ransum'].quantile([.25,.5,.75])))\n",
    "print(\"IQR: \"+str(df['Ransum'].quantile(0.75) - df['Ransum'].quantile(0.25)))\n",
    "print(\"Skewness: \"+str(df['Ransum'].skew()))\n",
    "print(\"Kurtosis: \"+str(df[\"Ransum\"].kurt()))\n",
    "boxplot = df.boxplot(column=['Ransum'])"
   ]
  },
  {
   "cell_type": "code",
   "execution_count": null,
   "id": "linear-tomorrow",
   "metadata": {},
   "outputs": [],
   "source": []
  }
 ],
 "metadata": {
  "kernelspec": {
   "display_name": "Python 3",
   "language": "python",
   "name": "python3"
  },
  "language_info": {
   "codemirror_mode": {
    "name": "ipython",
    "version": 3
   },
   "file_extension": ".py",
   "mimetype": "text/x-python",
   "name": "python",
   "nbconvert_exporter": "python",
   "pygments_lexer": "ipython3",
   "version": "3.9.2"
  }
 },
 "nbformat": 4,
 "nbformat_minor": 5
}
